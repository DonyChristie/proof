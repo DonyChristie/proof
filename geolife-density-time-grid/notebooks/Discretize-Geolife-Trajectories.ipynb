{
 "cells": [
  {
   "cell_type": "markdown",
   "metadata": {},
   "source": [
    "# Discretizing GeoLife Trajectory 1.3 sample data into a spatiotemporal grid\n",
    "\n",
    "*Part of the COVID19risk project*  \n",
    "*http://covid19risk.com/*  \n",
    "*2020-03-04*  \n",
    "\n",
    "*Copyright (C) 2020 Mikhail Voloshin, Mighty Data Inc.*  \n",
    "*All rights reserved.*  "
   ]
  },
  {
   "cell_type": "markdown",
   "metadata": {},
   "source": [
    "The objective of this Notebook is to convert the sample GeoLife trajectory data from Microsoft (https://www.microsoft.com/en-us/download/details.aspx?id=52367) into a form that can be marshalled to a browser for purposes of being rendered client-side as a heatmap that can be navigated across space and time.\n",
    "\n",
    "The GeoLife data is hundreds of megabytes ZIPped, and over 1.5 GB expanded into CSV-based \"trajectory\" files. This is far too big and too detailed to be usable by a client.\n",
    "\n",
    "As such, the purpose of this Notebook is to create a \"summary\" of the data that is optimized for rendering as a geospatial map, such as an overlap atop Google Maps.\n",
    "\n",
    "This is achieved via the following approach:\n",
    " 1. The user specifies a spatial resolution, in kilometers (default 5). Note that, because the Earth is round, this will only be approximately accurate. It will be optimized for best performance near the central US. Cells will grow finer (smaller, so fewer data points fall into each cell) closer to the poles, and coarser (larger, so more data points fall into individual cells) closer to the equator. Later adaptations of this software can compute cell boundaries more accurately.\n",
    " 1. The user specifies a temporal resolution, in days (default 7)\n",
    " 1. The user specifies a data directory into which the Microsoft Research GeoLife ZIP file got unzipped. If the directory name is the same as the filename, then this directory will be called \"Geolife Trajectories 1.3\"\n",
    " 1. This script will discretize the trajectory data into this grid. This script will iterate over every data point in every trajectory in the data directory, determine which spatiotemporal grid cell the point falls into, and tally the total number of unique trajectories (individuals) who appear in each cell.\n",
    " 1. The resultant tallies will be output as a time series of heatmaps. Each heatmap is inferred to be sparse, so it will be represented as a map; keys representing the latitude and longitude of each cell map to the number of trajectories tallied in that cell for that time interval.\n",
    " "
   ]
  },
  {
   "cell_type": "markdown",
   "metadata": {},
   "source": [
    "## Define parameters"
   ]
  },
  {
   "cell_type": "code",
   "execution_count": 1,
   "metadata": {},
   "outputs": [],
   "source": [
    "# Define parameters\n",
    "\n",
    "# The number of kilometers covered by each grid cell, in both the latitude and longitude direction.\n",
    "# Discretization is zeroed on the equator and prime meridian for latitude and longitude respectively.\n",
    "# For now, the number of kilometers per degree is fixed at a conversion rate optimized for 40oN -100oW,\n",
    "# which lies in northern Kansas near the geospatial center of the US. Future versions of this\n",
    "# script will employ an algorithm that takes the Earth's curvature into account. For now, this will lead\n",
    "# to a slight illusory increase in data points per cell (i.e. deceptively \"hotter\" cells) near\n",
    "# the equator, and an illusory decrease in data points per cell (i.e. deceptively \"colder\" cells)\n",
    "# near the poles. The distortion near the poles will be significant, but because those are far from\n",
    "# human population centers this should be acceptable.\n",
    "GRID_SPATIAL_KM = 5\n",
    "\n",
    "# The number of days for each time step into which to discretize the data.\n",
    "# Discretization is zeroed on the Unix epoch.\n",
    "GRID_TEMPORAL_DAYS = 7\n",
    "\n",
    "# Path to the unzipped Geolife data folder.\n",
    "DATA_DIR = \"../../../../data/proof-of-concept/Geolife Trajectories 1.3\""
   ]
  },
  {
   "cell_type": "markdown",
   "metadata": {},
   "source": [
    "## Search for trajectory files"
   ]
  },
  {
   "cell_type": "code",
   "execution_count": 2,
   "metadata": {},
   "outputs": [
    {
     "name": "stdout",
     "output_type": "stream",
     "text": [
      "Success. 182 trajectories found.\n"
     ]
    }
   ],
   "source": [
    "import os\n",
    "\n",
    "if not os.path.isdir(DATA_DIR):\n",
    "    raise ValueError(DATA_DIR + \" doesn't appear to be a directory that exists on this filesystem.\")\n",
    "if not os.path.isdir(DATA_DIR+'/Data'):\n",
    "    raise ValueError(DATA_DIR + \" doesn't appear to be the unzipped Geolife dataset. It doesn't contain a /Data subdirectory.\")\n",
    "\n",
    "# A trajectory folder path is any subfolder of the Data directory that has a Trajectory subfolder.\n",
    "trajectory_folder_paths = [f.path for f in os.scandir(DATA_DIR+'/Data') if f.is_dir() and os.path.isdir(f.path+'/Trajectory')]\n",
    "\n",
    "print(f'Success. {len(trajectory_folder_paths)} trajectories found.')"
   ]
  },
  {
   "cell_type": "markdown",
   "metadata": {},
   "source": [
    "## Initialize the data structures we'll output"
   ]
  },
  {
   "cell_type": "code",
   "execution_count": 3,
   "metadata": {},
   "outputs": [],
   "source": [
    "cell_spatiotemporal_tallies = {}"
   ]
  },
  {
   "cell_type": "markdown",
   "metadata": {},
   "source": [
    "## Precompute some values that will be useful to us during the computation\n",
    "\n",
    "Spatial grid degrees were computed with the help of https://andrew.hedges.name/experiments/haversine/. Future versions of this script should use trigonometry to discretize by traversing a longitudinal line in intervals of *GRID_SPATIAL_KM* km steps from the equator, and then using the Earth's cross-section at that latitude to walk by *GRID_SPATIAL_KM* km steps from the prime meridian. It's not hard, but a little too tedious to go through the trouble of writing said function for this proof-of-concept stage."
   ]
  },
  {
   "cell_type": "code",
   "execution_count": 4,
   "metadata": {},
   "outputs": [],
   "source": [
    "CELLSIZE_SECONDS = GRID_TEMPORAL_DAYS * 24 * 60 * 60\n",
    "\n",
    "CELLSIZE_DEGREES_LAT = GRID_SPATIAL_KM * 0.00899\n",
    "CELLSIZE_DEGREES_LONG = GRID_SPATIAL_KM * 0.01174\n",
    "CELLSIZE_DEGREES_PRECISION = 5\n"
   ]
  },
  {
   "cell_type": "markdown",
   "metadata": {},
   "source": [
    "## Define some helper functions"
   ]
  },
  {
   "cell_type": "code",
   "execution_count": 5,
   "metadata": {},
   "outputs": [],
   "source": [
    "import time\n",
    "import datetime\n",
    "\n",
    "MICROSOFT_EPOCH_START = time.mktime(datetime.datetime.strptime('1899-12-30', '%Y-%m-%d').timetuple())\n",
    "\n",
    "def convert_microsoft_epoch_to_unixtime(dayscount):\n",
    "    # Microsoft Research encoded this dataset to include a field\n",
    "    # that contains the number of days that have elapsed since\n",
    "    # Dec 30 (not 31), 1899. No word on whether this is midnight\n",
    "    # at the *beginning* or *end* of said date, but we can validate\n",
    "    # against the other date and time columns to make sure we\n",
    "    # got it right (which we did).\n",
    "\n",
    "    secondscount = dayscount * 24 * 60 * 60\n",
    "    retval = MICROSOFT_EPOCH_START + secondscount\n",
    "    return int(retval)\n",
    "    \n"
   ]
  },
  {
   "cell_type": "code",
   "execution_count": 6,
   "metadata": {},
   "outputs": [],
   "source": [
    "latlong_fstring_part = f'{{:.{CELLSIZE_DEGREES_PRECISION}f}}'\n",
    "latlong_fstring = f'{latlong_fstring_part},{latlong_fstring_part}'\n",
    "\n",
    "def determine_grid_cell(df):\n",
    "    df['unixtime'] = df['daysSinceMicrosoftEpoch'].apply(convert_microsoft_epoch_to_unixtime)    \n",
    "    \n",
    "    # We're using int as a de facto math.floor function\n",
    "    df['cell_latitude'] = (df['latitude'] / CELLSIZE_DEGREES_LAT).apply(int) * CELLSIZE_DEGREES_LAT\n",
    "    df['cell_longitude'] = (df['longitude'] / CELLSIZE_DEGREES_LONG).apply(int) * CELLSIZE_DEGREES_LONG\n",
    "    df['cell_unixtime'] = (df['unixtime'] / CELLSIZE_SECONDS).apply(int) * CELLSIZE_SECONDS\n",
    "\n",
    "    df['cell_key_spatial'] = df.apply(lambda x: latlong_fstring.format(x['cell_latitude'], x['cell_longitude']), axis=1)\n",
    "    df['cell_key_spatiotemporal'] = df.apply(lambda x: '{},{}'.format(x['cell_key_spatial'], x['cell_unixtime']), axis=1)\n",
    "    \n",
    "    return df\n",
    "    "
   ]
  },
  {
   "cell_type": "markdown",
   "metadata": {},
   "source": [
    "## Populate our data structures"
   ]
  },
  {
   "cell_type": "code",
   "execution_count": 7,
   "metadata": {},
   "outputs": [
    {
     "name": "stdout",
     "output_type": "stream",
     "text": [
      "Processing Trajectory ID: 000\n",
      "171 trajectory plots found.\n",
      "...........................................................................................................................................................................\n",
      "Trajectory ID 000 done.\n",
      "\n",
      "CPU times: user 8.17 s, sys: 531 ms, total: 8.7 s\n",
      "Wall time: 8.64 s\n"
     ]
    }
   ],
   "source": [
    "%%time\n",
    "\n",
    "import pandas as pd\n",
    "\n",
    "# The column meanings come from the User Guide PDF that comes with the Geolife dataset.\n",
    "GEOLIFE_COLUMNS = [\n",
    "    'latitude',\n",
    "    'longitude',\n",
    "    'reserved0',\n",
    "    'altitude',\n",
    "    'daysSinceMicrosoftEpoch',\n",
    "    'date',\n",
    "    'time'    \n",
    "]\n",
    "\n",
    "\n",
    "for traj_path in trajectory_folder_paths:\n",
    "    traj_id = traj_path.split('/')[-1]\n",
    "    print(f'Processing Trajectory ID: {traj_id}')\n",
    "\n",
    "    cells_hit_by_this_traj = set()\n",
    "    \n",
    "    traj_filenames = [f.path for f in os.scandir(traj_path+'/Trajectory') if f.is_file() and f.path.endswith('.plt')]\n",
    "    print(f'{len(traj_filenames)} trajectory plots found.')\n",
    "    \n",
    "    for traj_filename in traj_filenames:\n",
    "        df = pd.read_csv(traj_filename, skiprows=6, names=GEOLIFE_COLUMNS)\n",
    "        determine_grid_cell(df)\n",
    "        cells_hit = set(df['cell_key_spatiotemporal'].unique())\n",
    "        cells_hit_by_this_traj.update(cells_hit)\n",
    "        print(\".\", end=\"\")\n",
    "    \n",
    "    for cellkey in cells_hit_by_this_traj:\n",
    "        if cellkey not in cell_spatiotemporal_tallies:\n",
    "            cell_spatiotemporal_tallies[cellkey] = 1\n",
    "        else:\n",
    "            cell_spatiotemporal_tallies[cellkey] += 1\n",
    "\n",
    "            \n",
    "    print(f'\\nTrajectory ID {traj_id} done.\\n')\n",
    "    break"
   ]
  },
  {
   "cell_type": "code",
   "execution_count": null,
   "metadata": {},
   "outputs": [],
   "source": []
  },
  {
   "cell_type": "code",
   "execution_count": 8,
   "metadata": {},
   "outputs": [
    {
     "data": {
      "text/plain": [
       "190"
      ]
     },
     "execution_count": 8,
     "metadata": {},
     "output_type": "execute_result"
    }
   ],
   "source": [
    "len(cell_spatiotemporal_tallies)"
   ]
  },
  {
   "cell_type": "code",
   "execution_count": null,
   "metadata": {},
   "outputs": [],
   "source": []
  }
 ],
 "metadata": {
  "kernelspec": {
   "display_name": "Python 3",
   "language": "python",
   "name": "python3"
  },
  "language_info": {
   "codemirror_mode": {
    "name": "ipython",
    "version": 3
   },
   "file_extension": ".py",
   "mimetype": "text/x-python",
   "name": "python",
   "nbconvert_exporter": "python",
   "pygments_lexer": "ipython3",
   "version": "3.7.4"
  }
 },
 "nbformat": 4,
 "nbformat_minor": 2
}
